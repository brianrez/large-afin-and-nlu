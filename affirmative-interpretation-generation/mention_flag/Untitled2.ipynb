{
 "cells": [
  {
   "cell_type": "code",
   "execution_count": 5,
   "id": "b2970d1e-5510-4c76-b297-fb9132d3c894",
   "metadata": {},
   "outputs": [],
   "source": [
    "import json\n",
    "class jsonl:\n",
    "    def read(self, path):\n",
    "        with open(path) as f:\n",
    "            all_sentences = [json.loads(line) for line in f.readlines()]\n",
    "        return all_sentences\n",
    "\n",
    "    def write(self, path, data):\n",
    "        with open(path, \"w\") as f:\n",
    "            for line in data:\n",
    "                f.write(json.dumps(line) + \"\\n\")\n",
    "\n",
    "\n",
    "afin_train = jsonl().read(\"./data/afin/train.jsonl\")\n",
    "afin_test = jsonl().read(\"./data/afin/test.jsonl\")\n",
    "afin_dev = jsonl().read(\"./data/afin/dev.jsonl\")\n",
    "\n",
    "afin_train_extra = jsonl().read(\"./data/afin/train-extra.jsonl\")\n",
    "afin_test_extra = jsonl().read(\"./data/afin/test-extra.jsonl\")\n",
    "afin_dev_extra = jsonl().read(\"./data/afin/dev-extra.jsonl\")\n",
    "\n",
    "large_afin = jsonl().read(\"./data/large-afin/large-afin.jsonl\")\n",
    "large_afin_extra = jsonl().read(\"./data/large-afin/large-afin-extra.jsonl\")"
   ]
  },
  {
   "cell_type": "code",
   "execution_count": 6,
   "id": "9927cbab-2633-49ce-ac57-0a1671510472",
   "metadata": {},
   "outputs": [],
   "source": [
    "def howMany(data):\n",
    "    all_ = 0\n",
    "    noted = 0\n",
    "    for line in data:\n",
    "        all_ += 1\n",
    "        if 'pi' in line:\n",
    "            if 'not' in line['pi'].lower():\n",
    "                noted += 1\n",
    "        elif 'affirmative_interpretation' in line:\n",
    "            if 'not' in line['affirmative_interpretation'].lower():\n",
    "                noted += 1\n",
    "    return noted, all_"
   ]
  },
  {
   "cell_type": "code",
   "execution_count": 7,
   "id": "9c945899",
   "metadata": {},
   "outputs": [],
   "source": [
    "all_ = 0\n",
    "noted = 0\n",
    "\n",
    "temp1, temp2 = howMany(afin_train)\n",
    "all_ += temp2\n",
    "noted += temp1\n",
    "\n",
    "temp1, temp2 = howMany(afin_test)\n",
    "all_ += temp2\n",
    "noted += temp1\n",
    "\n",
    "temp1, temp2 = howMany(afin_dev)\n",
    "all_ += temp2\n",
    "noted += temp1\n",
    "\n",
    "temp1, temp2 = howMany(large_afin)\n",
    "all_ += temp2\n",
    "noted += temp1"
   ]
  },
  {
   "cell_type": "code",
   "execution_count": 8,
   "id": "e9c6da42-e4e3-45d1-9028-474e84692da1",
   "metadata": {},
   "outputs": [
    {
     "name": "stdout",
     "output_type": "stream",
     "text": [
      "Total: 156274, Noted: 5707, Ratio: 0.036519190652315806\n"
     ]
    }
   ],
   "source": [
    "print(f\"Total: {all_}, Noted: {noted}, Ratio: {noted/all_}\")"
   ]
  },
  {
   "cell_type": "code",
   "execution_count": null,
   "id": "f86350f8-5d36-4dba-8a09-e37e8a54ab16",
   "metadata": {},
   "outputs": [],
   "source": []
  }
 ],
 "metadata": {
  "kernelspec": {
   "display_name": "Python 3 (ipykernel)",
   "language": "python",
   "name": "python3"
  },
  "language_info": {
   "codemirror_mode": {
    "name": "ipython",
    "version": 3
   },
   "file_extension": ".py",
   "mimetype": "text/x-python",
   "name": "python",
   "nbconvert_exporter": "python",
   "pygments_lexer": "ipython3",
   "version": "3.10.6"
  }
 },
 "nbformat": 4,
 "nbformat_minor": 5
}

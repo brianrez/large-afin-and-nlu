{
 "cells": [
  {
   "cell_type": "code",
   "execution_count": 1,
   "id": "b2970d1e-5510-4c76-b297-fb9132d3c894",
   "metadata": {},
   "outputs": [],
   "source": [
    "import json\n",
    "class jsonl:\n",
    "    def read(self, path):\n",
    "        with open(path) as f:\n",
    "            all_sentences = [json.loads(line) for line in f.readlines()]\n",
    "        return all_sentences\n",
    "\n",
    "    def write(self, path, data):\n",
    "        with open(path, \"w\") as f:\n",
    "            for line in data:\n",
    "                f.write(json.dumps(line) + \"\\n\")\n",
    "\n",
    "\n",
    "afin_train = jsonl().read(\"./data/afin/train.jsonl\")\n",
    "afin_test = jsonl().read(\"./data/afin/test.jsonl\")\n",
    "afin_dev = jsonl().read(\"./data/afin/dev.jsonl\")\n",
    "\n",
    "afin_train_extra = jsonl().read(\"./data/afin/train-extra.jsonl\")\n",
    "afin_test_extra = jsonl().read(\"./data/afin/test-extra.jsonl\")\n",
    "afin_dev_extra = jsonl().read(\"./data/afin/dev-extra.jsonl\")\n",
    "\n",
    "large_afin = jsonl().read(\"./data/large-afin/large-afin.jsonl\")\n",
    "large_afin_extra = jsonl().read(\"./data/large-afin/large-afin-extra.jsonl\")"
   ]
  },
  {
   "cell_type": "code",
   "execution_count": 6,
   "id": "9927cbab-2633-49ce-ac57-0a1671510472",
   "metadata": {},
   "outputs": [],
   "source": [
    "def howMany(data):\n",
    "    all_ = 0\n",
    "    noted = 0\n",
    "    for line in data:\n",
    "        all_ += 1\n",
    "        if 'pi' in line:\n",
    "            if 'not' in line['pi'].lower():\n",
    "                noted += 1\n",
    "        elif 'affirmative_interpretation' in line:\n",
    "            if 'not' in line['affirmative_interpretation'].lower():\n",
    "                noted += 1\n",
    "    return noted, all_"
   ]
  },
  {
   "cell_type": "code",
   "execution_count": 2,
   "id": "bdf69a61",
   "metadata": {},
   "outputs": [],
   "source": [
    "def how_many(dataset, negation_cues):\n",
    "    # editeds = dataset.filter(lambda x: x['PassageEditID']==edit_id)\n",
    "    # editeds = list(set(editeds['mention flag 1']))\n",
    "    editeds = dataset\n",
    "    \n",
    "    all_ = 0\n",
    "    has_neg = 0\n",
    "    origcues = 0\n",
    "    \n",
    "    temp = True\n",
    "    for inst in editeds:\n",
    "        if 'pi' in inst:\n",
    "            sent2 = inst['pi']\n",
    "        elif 'affirmative_interpretation' in inst:\n",
    "            sent2 = inst['affirmative_interpretation']\n",
    "        sent = inst['sentence']\n",
    "        all_ += 1\n",
    "        found = False\n",
    "        origcue = False\n",
    "        for negation in negation_cues:\n",
    "            negation = negation.lower()\n",
    "            negation = \" \" + negation + \" \"\n",
    "            if negation in sent:\n",
    "                found = True\n",
    "                if negation in sent2:\n",
    "                    origcue = True\n",
    "                break\n",
    "        if found:\n",
    "            has_neg += 1 \n",
    "        if origcue:\n",
    "            origcues += 1\n",
    "        if found and origcue and temp:\n",
    "            print(sent)\n",
    "            print(sent2)\n",
    "            print(negation)\n",
    "            temp = False\n",
    "            \n",
    "    return all_, has_neg, origcues"
   ]
  },
  {
   "cell_type": "code",
   "execution_count": 3,
   "id": "f86350f8-5d36-4dba-8a09-e37e8a54ab16",
   "metadata": {},
   "outputs": [],
   "source": [
    "import pickle\n",
    "with open(\"negations.pkl\", \"rb\") as f:\n",
    "    negation_cues = pickle.load(f)"
   ]
  },
  {
   "cell_type": "code",
   "execution_count": 4,
   "id": "c3524c29",
   "metadata": {},
   "outputs": [
    {
     "name": "stdout",
     "output_type": "stream",
     "text": [
      "Slumps often happen when a slope is undercut , with no support for the overlying materials , or when too much weight is added to an unstable slope .\n",
      "Slumps add too much weight in an unstable slope.\n",
      " unstable \n",
      "I do n't expect that the lack of British participation will stop any action . ''\n",
      "I expect that any action will be unaffected by the lack of British participation.\n",
      " lack \n",
      "It usually involves getting used to something that is frightening or annoying but not dangerous .\n",
      "Exposure therapy is used to something that is frightening or annoying but not dangerous.\n",
      " not \n",
      "When he arrived at Los Angeles he could just drive a day when both headlights did n't work .\n",
      "When he arrived in Los Angeles , he could only drive during the day because the truck had two broken headlights .\n",
      " could \n",
      "all: 156274, has_neg: 98795, origcues: 3720\n",
      "has_neg/all: 0.6321908954784545, origcues/all: 0.02380434365281493\n",
      "has_neg/origcues: 26.557795698924732\n"
     ]
    }
   ],
   "source": [
    "all_ = 0\n",
    "has_neg = 0\n",
    "origcues = 0\n",
    "# run only for original afin and large afin\n",
    "for dataset in [afin_train, afin_test, afin_dev, large_afin]:\n",
    "    all__, has_neg__, origcues__ = how_many(dataset, negation_cues)\n",
    "    all_ += all__\n",
    "    has_neg += has_neg__\n",
    "    origcues += origcues__\n",
    "\n",
    "print(f\"all: {all_}, has_neg: {has_neg}, origcues: {origcues}\")\n",
    "print(f\"has_neg/all: {has_neg/all_}, origcues/all: {origcues/all_}\")\n",
    "print(f\"origcues/has_neg: {origcues/has_neg}\")"
   ]
  },
  {
   "cell_type": "code",
   "execution_count": 7,
   "id": "9c945899",
   "metadata": {},
   "outputs": [],
   "source": [
    "all_ = 0\n",
    "noted = 0\n",
    "\n",
    "temp1, temp2 = howMany(afin_train)\n",
    "all_ += temp2\n",
    "noted += temp1\n",
    "\n",
    "temp1, temp2 = howMany(afin_test)\n",
    "all_ += temp2\n",
    "noted += temp1\n",
    "\n",
    "temp1, temp2 = howMany(afin_dev)\n",
    "all_ += temp2\n",
    "noted += temp1\n",
    "\n",
    "temp1, temp2 = howMany(large_afin)\n",
    "all_ += temp2\n",
    "noted += temp1"
   ]
  },
  {
   "cell_type": "code",
   "execution_count": 8,
   "id": "e9c6da42-e4e3-45d1-9028-474e84692da1",
   "metadata": {},
   "outputs": [
    {
     "name": "stdout",
     "output_type": "stream",
     "text": [
      "Total: 156274, Noted: 5707, Ratio: 0.036519190652315806\n"
     ]
    }
   ],
   "source": [
    "print(f\"Total: {all_}, Noted: {noted}, Ratio: {noted/all_}\")"
   ]
  }
 ],
 "metadata": {
  "kernelspec": {
   "display_name": "Python 3 (ipykernel)",
   "language": "python",
   "name": "python3"
  },
  "language_info": {
   "codemirror_mode": {
    "name": "ipython",
    "version": 3
   },
   "file_extension": ".py",
   "mimetype": "text/x-python",
   "name": "python",
   "nbconvert_exporter": "python",
   "pygments_lexer": "ipython3",
   "version": "3.10.6"
  }
 },
 "nbformat": 4,
 "nbformat_minor": 5
}

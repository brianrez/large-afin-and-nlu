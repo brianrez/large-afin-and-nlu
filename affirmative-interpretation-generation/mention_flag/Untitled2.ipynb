{
 "cells": [
  {
   "cell_type": "code",
   "execution_count": 20,
   "id": "b2970d1e-5510-4c76-b297-fb9132d3c894",
   "metadata": {},
   "outputs": [
    {
     "name": "stdout",
     "output_type": "stream",
     "text": [
      "tensor([[[1, 0, 1],\n",
      "         [1, 1, 1]],\n",
      "\n",
      "        [[1, 0, 1],\n",
      "         [0, 6, 1]],\n",
      "\n",
      "        [[1, 0, 1],\n",
      "         [0, 5, 1]]])\n",
      "torch.Size([3, 2, 3])\n",
      "tensor([[1, 1, 1],\n",
      "        [0, 6, 1],\n",
      "        [0, 5, 1]])\n",
      "<class 'int'>\n"
     ]
    }
   ],
   "source": [
    "import torch\n",
    "\n",
    "\n",
    "tensor = torch.tensor([[[1, 0, 1], [1, 1, 1]], [[1, 0, 1], [0, 6, 1]], [[1, 0, 1], [0, 5, 1]]])\n",
    "print(tensor)\n",
    "print(tensor.shape)\n",
    "\n",
    "last_column = tensor[:, -1, :]\n",
    "print(last_column)\n",
    "number_of_ones = torch.sum(last_column == 1)\n",
    "\n",
    "print(type(number_of_ones.tolist()))"
   ]
  },
  {
   "cell_type": "code",
   "execution_count": null,
   "id": "9927cbab-2633-49ce-ac57-0a1671510472",
   "metadata": {},
   "outputs": [],
   "source": []
  },
  {
   "cell_type": "code",
   "execution_count": null,
   "id": "e9c6da42-e4e3-45d1-9028-474e84692da1",
   "metadata": {},
   "outputs": [],
   "source": []
  }
 ],
 "metadata": {
  "kernelspec": {
   "display_name": "Python 3 (ipykernel)",
   "language": "python",
   "name": "python3"
  },
  "language_info": {
   "codemirror_mode": {
    "name": "ipython",
    "version": 3
   },
   "file_extension": ".py",
   "mimetype": "text/x-python",
   "name": "python",
   "nbconvert_exporter": "python",
   "pygments_lexer": "ipython3",
   "version": "3.10.6"
  }
 },
 "nbformat": 4,
 "nbformat_minor": 5
}

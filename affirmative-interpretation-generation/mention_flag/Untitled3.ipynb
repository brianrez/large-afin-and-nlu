{
 "cells": [
  {
   "cell_type": "code",
   "execution_count": 2,
   "id": "9d857f67",
   "metadata": {},
   "outputs": [],
   "source": [
    "import json\n",
    "class jsonl:\n",
    "    def read(self, path):\n",
    "        with open(path) as f:\n",
    "            all_sentences = [json.loads(line) for line in f.readlines()]\n",
    "        return all_sentences\n",
    "\n",
    "    def write(self, path, data):\n",
    "        with open(path, \"w\") as f:\n",
    "            for line in data:\n",
    "                f.write(json.dumps(line) + \"\\n\")\n",
    "\n",
    "\n",
    "afin_train = jsonl().read(\"./data/afin/train.jsonl\")\n",
    "afin_test = jsonl().read(\"./data/afin/test.jsonl\")\n",
    "afin_dev = jsonl().read(\"./data/afin/dev.jsonl\")\n",
    "\n",
    "afin_train_extra = jsonl().read(\"./data/afin/train-extra.jsonl\")\n",
    "afin_test_extra = jsonl().read(\"./data/afin/test-extra.jsonl\")\n",
    "afin_dev_extra = jsonl().read(\"./data/afin/dev-extra.jsonl\")\n",
    "\n",
    "large_afin = jsonl().read(\"./data/large-afin/large-afin.jsonl\")\n",
    "large_afin_extra = jsonl().read(\"./data/large-afin/large-afin-extra.jsonl\")\n",
    "\n",
    "\n",
    "def apply_on_all(func):\n",
    "    all_orig = 0\n",
    "    true_orig = 0\n",
    "\n",
    "    all_extra = 0\n",
    "    true_extra = 0\n",
    "\n",
    "    for data in [afin_train, afin_test, afin_dev, large_afin]:\n",
    "        temp1, temp2 = func(data)\n",
    "        all_orig += temp1\n",
    "        true_orig += temp2\n",
    "\n",
    "    for data in [afin_train_extra, afin_test_extra, afin_dev_extra, large_afin_extra]:\n",
    "        temp1, temp2 = func(data)\n",
    "        all_extra += temp1\n",
    "        true_extra += temp2\n",
    "\n",
    "    print(f\"all_orig: {all_orig}, true_orig: {true_orig}, all_extra: {all_extra}, true_extra: {true_extra}\")\n",
    "    print(f\"orig: {true_orig/all_orig}, extra: {true_extra/all_extra}\")"
   ]
  },
  {
   "cell_type": "code",
   "execution_count": 3,
   "id": "b016658b",
   "metadata": {},
   "outputs": [],
   "source": [
    "def cueCounter(dataset):\n",
    "    if 'pi' in dataset[0]:\n",
    "        affirs = [line['pi'] for line in dataset]\n",
    "    else:\n",
    "        affirs = [line['affirmative_interpretation'] for line in dataset]\n",
    "    all_ = 0\n",
    "    cued = 0\n",
    "    for affir in affirs:\n",
    "        all_ += 1\n",
    "        if 'not' in affir:\n",
    "            cued += 1\n",
    "    return all_, cued"
   ]
  },
  {
   "cell_type": "code",
   "execution_count": 7,
   "id": "aa82b440",
   "metadata": {},
   "outputs": [
    {
     "name": "stdout",
     "output_type": "stream",
     "text": [
      "train: 0.5790229885057471\n",
      "test: 0.59392575928009\n",
      "dev: 0.5503355704697986\n"
     ]
    }
   ],
   "source": [
    "temp1, temp2 = cueCounter(afin_train_extra)\n",
    "print(f\"train: {temp2/temp1}\")\n",
    "temp1, temp2 = cueCounter(afin_test_extra)\n",
    "print(f\"test: {temp2/temp1}\")\n",
    "temp1, temp2 = cueCounter(afin_dev_extra)\n",
    "print(f\"dev: {temp2/temp1}\")"
   ]
  },
  {
   "cell_type": "code",
   "execution_count": 4,
   "id": "f746daa6",
   "metadata": {},
   "outputs": [
    {
     "name": "stdout",
     "output_type": "stream",
     "text": [
      "all_orig: 156274, true_orig: 5013, all_extra: 292943, true_extra: 101599\n",
      "orig: 0.03207827277730141, extra: 0.34682173665184013\n"
     ]
    }
   ],
   "source": [
    "apply_on_all(cueCounter)"
   ]
  },
  {
   "cell_type": "code",
   "execution_count": 5,
   "id": "e35a6e65-09e5-4504-b99e-0f9c1ddb37cb",
   "metadata": {},
   "outputs": [
    {
     "name": "stdout",
     "output_type": "stream",
     "text": [
      "286984\n",
      "153273\n"
     ]
    }
   ],
   "source": [
    "print(len(large_afin_extra))\n",
    "print(len(large_afin))"
   ]
  },
  {
   "cell_type": "code",
   "execution_count": 20,
   "id": "d01683db-91af-4728-adcd-ed212ea14f98",
   "metadata": {},
   "outputs": [],
   "source": [
    "def createMap(orig, extra):\n",
    "    all_ = 0\n",
    "    check = 0\n",
    "    missed = 0\n",
    "    all_map = []\n",
    "    for line in orig:\n",
    "        all_ += 1\n",
    "        temp = {}\n",
    "        temp['orig'] = line\n",
    "        for line2 in extra:\n",
    "            if line['sentence'] == line2['sentence'] and line['affirmative_interpretation'].strip() != line2['affirmative_interpretation'].strip():\n",
    "                temp['extra'] = line2\n",
    "                check += 1\n",
    "                break\n",
    "        if not 'extra' in temp:\n",
    "            temp['extra'] = None\n",
    "            missed += 1\n",
    "        all_map.append(temp)\n",
    "        print(f\"all: {all_}, check: {check}, missed: {missed}\", end='\\r')\n",
    "    return all_map"
   ]
  },
  {
   "cell_type": "code",
   "execution_count": null,
   "id": "9e403bf6",
   "metadata": {},
   "outputs": [],
   "source": [
    "afin_test_all = createMap(afin_test, afin_test_extra)\n",
    "print('finished test')\n",
    "afin_train_all = createMap(afin_train, afin_train_extra)\n",
    "print('finished train')\n",
    "afin_dev_all = createMap(afin_dev, afin_dev_extra)\n",
    "print('finished dev')\n",
    "\n",
    "jsonl().write(\"./data/afin/test-all.jsonl\", afin_test_all)\n",
    "jsonl().write(\"./data/afin/train-all.jsonl\", afin_train_all)\n",
    "jsonl().write(\"./data/afin/dev-all.jsonl\", afin_dev_all)"
   ]
  },
  {
   "cell_type": "code",
   "execution_count": null,
   "id": "2649962f",
   "metadata": {},
   "outputs": [
    {
     "name": "stdout",
     "output_type": "stream",
     "text": [
      "all: 138329, check: 121796, missed: 16533\r"
     ]
    }
   ],
   "source": [
    "large_afin_all = createMap(large_afin, large_afin_extra)\n",
    "jsonl().write(\"./data/large-afin/large-afin-all.jsonl\", large_afin_all)"
   ]
  },
  {
   "cell_type": "code",
   "execution_count": 2,
   "id": "7ca199e3-24c4-4963-9185-7fc700fca1b0",
   "metadata": {},
   "outputs": [],
   "source": [
    "import json\n",
    "class jsonl:\n",
    "    def read(self, path):\n",
    "        with open(path) as f:\n",
    "            all_sentences = [json.loads(line) for line in f.readlines()]\n",
    "        return all_sentences\n",
    "\n",
    "    def write(self, path, data):\n",
    "        with open(path, \"w\") as f:\n",
    "            for line in data:\n",
    "                f.write(json.dumps(line) + \"\\n\")"
   ]
  },
  {
   "cell_type": "code",
   "execution_count": 7,
   "id": "2584848d-2742-4560-8015-fa64da4f331d",
   "metadata": {},
   "outputs": [
    {
     "name": "stdout",
     "output_type": "stream",
     "text": [
      "all: 450, check: 251\n",
      "all: 450, neg found: 399\n",
      "all: 2101, check: 1144\n",
      "all: 2101, neg found: 1855\n",
      "all: 450, check: 233\n",
      "all: 450, neg found: 401\n"
     ]
    },
    {
     "data": {
      "text/plain": [
       "'\\nlarge_afin_all = jsonl().read(\"./data/large-afin/large-afin-all.jsonl\")\\nlarge_afin_new_extra = createNewExtra(large_afin_all)\\njsonl().write(\"./data/large-afin/large-afin-extra.jsonl\", large_afin_new_extra)\\n'"
      ]
     },
     "execution_count": 7,
     "metadata": {},
     "output_type": "execute_result"
    }
   ],
   "source": [
    "import pickle\n",
    "with open(\"negations.pkl\", \"rb\") as f:\n",
    "    negation_cues = pickle.load(f)\n",
    "\n",
    "\n",
    "\n",
    "def createNewExtra(all_data, neg_cues):\n",
    "    new_extra = []\n",
    "    # shuffle all_data\n",
    "    import random\n",
    "    random.shuffle(all_data)\n",
    "    all_ = 0\n",
    "    check = 0\n",
    "    neg_found = 0\n",
    "    for line in all_data:\n",
    "        all_ += 1\n",
    "        if line['extra'] != None:\n",
    "            for cue in neg_cues:\n",
    "                if \" \" + cue + \" \" in line['extra']['sentence']:\n",
    "                    neg_found += 1\n",
    "                    if \" \" + cue + \" \" in line['extra']['affirmative_interpretation']:\n",
    "                        new_extra.append(line['extra'])\n",
    "                        check += 1\n",
    "                    break\n",
    "                \n",
    "\n",
    "    print(f\"all: {all_}, check: {check}\")\n",
    "    print(f\"all: {all_}, neg found: {neg_found}\")\n",
    "    random.shuffle(new_extra)\n",
    "    return new_extra\n",
    "\n",
    "'''\n",
    "afin_test_all = jsonl().read(\"./data/afin/test-all.jsonl\")\n",
    "afin_train_all = jsonl().read(\"./data/afin/train-all.jsonl\")\n",
    "afin_dev_all = jsonl().read(\"./data/afin/dev-all.jsonl\")\n",
    "\n",
    "afin_test_new_extra = createNewExtra(afin_test_all, negation_cues)\n",
    "afin_train_new_extra = createNewExtra(afin_train_all, negation_cues)\n",
    "afin_dev_new_extra = createNewExtra(afin_dev_all, negation_cues)\n",
    "jsonl().write(\"./data/afin/test-extra.jsonl\", afin_test_new_extra)\n",
    "jsonl().write(\"./data/afin/train-extra.jsonl\", afin_train_new_extra)\n",
    "jsonl().write(\"./data/afin/dev-extra.jsonl\", afin_dev_new_extra)\n",
    "'''\n",
    "\n",
    "large_afin_all = jsonl().read(\"./data/large-afin/large-afin-all.jsonl\")\n",
    "large_afin_new_extra = createNewExtra(large_afin_all, negation_cues)\n",
    "jsonl().write(\"./data/large-afin/large-afin-extra.jsonl\", large_afin_new_extra)\n"
   ]
  },
  {
   "cell_type": "code",
   "execution_count": null,
   "id": "3e9a444f-3535-4963-a756-b536054c81e6",
   "metadata": {},
   "outputs": [],
   "source": []
  }
 ],
 "metadata": {
  "kernelspec": {
   "display_name": "Python 3 (ipykernel)",
   "language": "python",
   "name": "python3"
  },
  "language_info": {
   "codemirror_mode": {
    "name": "ipython",
    "version": 3
   },
   "file_extension": ".py",
   "mimetype": "text/x-python",
   "name": "python",
   "nbconvert_exporter": "python",
   "pygments_lexer": "ipython3",
   "version": "3.10.6"
  }
 },
 "nbformat": 4,
 "nbformat_minor": 5
}

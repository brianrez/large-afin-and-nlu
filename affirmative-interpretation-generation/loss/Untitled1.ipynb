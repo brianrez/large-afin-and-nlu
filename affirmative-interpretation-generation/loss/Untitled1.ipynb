{
 "cells": [
  {
   "cell_type": "code",
   "execution_count": 2,
   "id": "20676812-181b-4d52-b76c-08efe44b1212",
   "metadata": {},
   "outputs": [],
   "source": [
    "import torch"
   ]
  },
  {
   "cell_type": "code",
   "execution_count": 7,
   "id": "b7857ae4-da35-4874-bb28-d35303e0747f",
   "metadata": {},
   "outputs": [
    {
     "name": "stdout",
     "output_type": "stream",
     "text": [
      "tensor([2, 5])\n"
     ]
    }
   ],
   "source": [
    "ten = torch.tensor([[1, 2, 3], [4, 5, 6]])\n",
    "print(ten[:, 1])"
   ]
  },
  {
   "cell_type": "code",
   "execution_count": null,
   "id": "f4fc3418-0396-4446-9cb9-bf2649a5a043",
   "metadata": {},
   "outputs": [],
   "source": [
    "ten.has"
   ]
  },
  {
   "cell_type": "code",
   "execution_count": 3,
   "id": "f120a13f-60bd-4c36-8081-d69c432eaa14",
   "metadata": {},
   "outputs": [],
   "source": [
    "import numpy as np\n",
    "arr = np.array([1, 2, 3])"
   ]
  },
  {
   "cell_type": "code",
   "execution_count": null,
   "id": "f5203668-8661-48d3-83ec-b30edb4ef243",
   "metadata": {},
   "outputs": [],
   "source": []
  }
 ],
 "metadata": {
  "kernelspec": {
   "display_name": "Python 3 (ipykernel)",
   "language": "python",
   "name": "python3"
  },
  "language_info": {
   "codemirror_mode": {
    "name": "ipython",
    "version": 3
   },
   "file_extension": ".py",
   "mimetype": "text/x-python",
   "name": "python",
   "nbconvert_exporter": "python",
   "pygments_lexer": "ipython3",
   "version": "3.10.6"
  }
 },
 "nbformat": 4,
 "nbformat_minor": 5
}
